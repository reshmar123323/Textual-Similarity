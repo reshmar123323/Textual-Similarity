{
 "cells": [
  {
   "cell_type": "code",
   "execution_count": null,
   "id": "965200aa",
   "metadata": {},
   "outputs": [],
   "source": [
    "# the technique i have used to find the similarity btw 2 sentences is Sentence transformer and cosine similarity"
   ]
  },
  {
   "cell_type": "code",
   "execution_count": 16,
   "id": "85bf2713",
   "metadata": {},
   "outputs": [],
   "source": [
    "from sentence_transformers import SentenceTransformer,util\n",
    "model = SentenceTransformer('all-MiniLM-L6-v2')\n",
    "# 'all-MiniLM-L6-v2'is a sentence-transformers model.It maps sentences & paragraphs to a 384 dimensional dense vector space"
   ]
  },
  {
   "cell_type": "code",
   "execution_count": 64,
   "id": "53f67593",
   "metadata": {},
   "outputs": [
    {
     "name": "stdout",
     "output_type": "stream",
     "text": [
      "Cosine-Similarity: tensor([[0.7159]])\n"
     ]
    }
   ],
   "source": [
    "emb1 = model.encode(\"I am using a blue pen\")\n",
    "emb2 = model.encode(\"I don't use a pen\")\n",
    "cos_sim = util.cos_sim(emb1, emb2)\n",
    "print(\"Cosine-Similarity:\", cos_sim)\n",
    "#the similarity btw 2 sentence is 0.5254"
   ]
  },
  {
   "cell_type": "code",
   "execution_count": 47,
   "id": "5ce7608a",
   "metadata": {},
   "outputs": [],
   "source": [
    "#Calculating cosine similarity between all pairs of sentences\n",
    "sentences=['A woman is drinking water.',\n",
    "'A man is drinking a cup of coffee.',\n",
    "'The girl is carrying a basket of flowers.',\n",
    "'A child is riding a bicycle.',\n",
    "'A student is playing the piano.',\n",
    "'The boy is carrying a backpack.'\n",
    "'Two friends are walking in the park.',\n",
    "'A man is running on a track.',\n",
    "'A woman is running on a treadmill.',\n",
    "'A man is riding a motorcycle.',\n",
    "'A musician is playing the guitar.',\n",
    "'A boy is flying a kite.',\n",
    "'Two siblings are walking on the beach.',\n",
    "'A girl is flying a paper airplane.']"
   ]
  },
  {
   "cell_type": "code",
   "execution_count": 48,
   "id": "cddc2277",
   "metadata": {},
   "outputs": [
    {
     "data": {
      "text/plain": [
       "tensor([[ 1.0000e+00,  2.4577e-01,  1.2554e-01, -3.0179e-02,  1.5336e-02,\n",
       "         -9.7776e-02, -7.4475e-02,  3.1377e-01, -5.5357e-02,  1.0672e-01,\n",
       "         -4.7735e-02,  8.3967e-03,  1.3831e-01],\n",
       "        [ 2.4577e-01,  1.0000e+00,  3.1230e-02, -4.1545e-03,  5.2877e-02,\n",
       "          4.5285e-02,  2.5145e-01, -2.6722e-02,  1.4210e-01,  9.8156e-02,\n",
       "          2.2458e-02, -2.1946e-01, -5.2538e-02],\n",
       "        [ 1.2554e-01,  3.1230e-02,  1.0000e+00,  2.3528e-01,  1.1964e-01,\n",
       "          2.0907e-01, -8.4867e-02,  1.2857e-01, -8.4025e-03, -5.1421e-02,\n",
       "          2.3273e-02,  4.5821e-02,  2.7277e-01],\n",
       "        [-3.0179e-02, -4.1545e-03,  2.3528e-01,  1.0000e+00,  2.5749e-01,\n",
       "          1.6843e-01, -2.7136e-02,  1.1755e-01,  2.4175e-01,  1.6961e-01,\n",
       "          2.9201e-01,  6.7056e-02,  2.6779e-01],\n",
       "        [ 1.5336e-02,  5.2877e-02,  1.1964e-01,  2.5749e-01,  1.0000e+00,\n",
       "          9.0161e-02,  7.0804e-02,  1.2259e-01, -5.3111e-02,  4.0822e-01,\n",
       "          1.7107e-01, -3.3745e-02,  2.1315e-01],\n",
       "        [-9.7776e-02,  4.5285e-02,  2.0907e-01,  1.6843e-01,  9.0161e-02,\n",
       "          1.0000e+00, -6.8390e-02, -8.0092e-02,  9.2458e-04, -1.1089e-02,\n",
       "          2.3564e-01,  3.6643e-01,  4.0898e-02],\n",
       "        [-7.4475e-02,  2.5145e-01, -8.4867e-02, -2.7136e-02,  7.0804e-02,\n",
       "         -6.8390e-02,  1.0000e+00,  4.1042e-01,  2.6548e-01,  1.6592e-01,\n",
       "         -7.4251e-02, -1.9252e-01, -9.6002e-02],\n",
       "        [ 3.1377e-01, -2.6722e-02,  1.2857e-01,  1.1755e-01,  1.2259e-01,\n",
       "         -8.0092e-02,  4.1042e-01,  1.0000e+00,  4.9432e-02,  1.4967e-01,\n",
       "         -5.1029e-02, -5.9344e-02,  8.1627e-02],\n",
       "        [-5.5357e-02,  1.4210e-01, -8.4025e-03,  2.4175e-01, -5.3111e-02,\n",
       "          9.2458e-04,  2.6548e-01,  4.9432e-02,  1.0000e+00,  1.7690e-01,\n",
       "          1.1787e-01, -1.0568e-01,  1.0105e-01],\n",
       "        [ 1.0672e-01,  9.8156e-02, -5.1421e-02,  1.6961e-01,  4.0822e-01,\n",
       "         -1.1089e-02,  1.6592e-01,  1.4967e-01,  1.7690e-01,  1.0000e+00,\n",
       "          1.9797e-01, -7.4060e-02,  1.2361e-01],\n",
       "        [-4.7735e-02,  2.2458e-02,  2.3273e-02,  2.9201e-01,  1.7107e-01,\n",
       "          2.3564e-01, -7.4251e-02, -5.1029e-02,  1.1787e-01,  1.9797e-01,\n",
       "          1.0000e+00,  1.5058e-01,  3.0194e-01],\n",
       "        [ 8.3967e-03, -2.1946e-01,  4.5821e-02,  6.7056e-02, -3.3745e-02,\n",
       "          3.6643e-01, -1.9252e-01, -5.9344e-02, -1.0568e-01, -7.4060e-02,\n",
       "          1.5058e-01,  1.0000e+00, -1.5523e-03],\n",
       "        [ 1.3831e-01, -5.2538e-02,  2.7277e-01,  2.6779e-01,  2.1315e-01,\n",
       "          4.0898e-02, -9.6002e-02,  8.1627e-02,  1.0105e-01,  1.2361e-01,\n",
       "          3.0194e-01, -1.5523e-03,  1.0000e+00]])"
      ]
     },
     "execution_count": 48,
     "metadata": {},
     "output_type": "execute_result"
    }
   ],
   "source": [
    "#Encode all sentences\n",
    "embeddings = model.encode(sentences)\n",
    "\n",
    "#Compute cosine similarity between all pairs\n",
    "cos_sim = util.cos_sim(embeddings, embeddings)\n",
    "\n",
    "cos_sim\n"
   ]
  },
  {
   "cell_type": "code",
   "execution_count": 49,
   "id": "1419ee25",
   "metadata": {},
   "outputs": [
    {
     "data": {
      "text/plain": [
       "13"
      ]
     },
     "execution_count": 49,
     "metadata": {},
     "output_type": "execute_result"
    }
   ],
   "source": [
    "len(cos_sim)"
   ]
  },
  {
   "cell_type": "code",
   "execution_count": 50,
   "id": "c559356b",
   "metadata": {},
   "outputs": [
    {
     "data": {
      "text/plain": [
       "[(tensor(0.2458), 0, 1),\n",
       " (tensor(0.1255), 0, 2),\n",
       " (tensor(-0.0302), 0, 3),\n",
       " (tensor(0.0153), 0, 4),\n",
       " (tensor(-0.0978), 0, 5),\n",
       " (tensor(-0.0745), 0, 6),\n",
       " (tensor(0.3138), 0, 7),\n",
       " (tensor(-0.0554), 0, 8),\n",
       " (tensor(0.1067), 0, 9),\n",
       " (tensor(-0.0477), 0, 10),\n",
       " (tensor(0.0084), 0, 11),\n",
       " (tensor(0.1383), 0, 12),\n",
       " (tensor(0.0312), 1, 2),\n",
       " (tensor(-0.0042), 1, 3),\n",
       " (tensor(0.0529), 1, 4),\n",
       " (tensor(0.0453), 1, 5),\n",
       " (tensor(0.2514), 1, 6),\n",
       " (tensor(-0.0267), 1, 7),\n",
       " (tensor(0.1421), 1, 8),\n",
       " (tensor(0.0982), 1, 9),\n",
       " (tensor(0.0225), 1, 10),\n",
       " (tensor(-0.2195), 1, 11),\n",
       " (tensor(-0.0525), 1, 12),\n",
       " (tensor(0.2353), 2, 3),\n",
       " (tensor(0.1196), 2, 4),\n",
       " (tensor(0.2091), 2, 5),\n",
       " (tensor(-0.0849), 2, 6),\n",
       " (tensor(0.1286), 2, 7),\n",
       " (tensor(-0.0084), 2, 8),\n",
       " (tensor(-0.0514), 2, 9),\n",
       " (tensor(0.0233), 2, 10),\n",
       " (tensor(0.0458), 2, 11),\n",
       " (tensor(0.2728), 2, 12),\n",
       " (tensor(0.2575), 3, 4),\n",
       " (tensor(0.1684), 3, 5),\n",
       " (tensor(-0.0271), 3, 6),\n",
       " (tensor(0.1176), 3, 7),\n",
       " (tensor(0.2417), 3, 8),\n",
       " (tensor(0.1696), 3, 9),\n",
       " (tensor(0.2920), 3, 10),\n",
       " (tensor(0.0671), 3, 11),\n",
       " (tensor(0.2678), 3, 12),\n",
       " (tensor(0.0902), 4, 5),\n",
       " (tensor(0.0708), 4, 6),\n",
       " (tensor(0.1226), 4, 7),\n",
       " (tensor(-0.0531), 4, 8),\n",
       " (tensor(0.4082), 4, 9),\n",
       " (tensor(0.1711), 4, 10),\n",
       " (tensor(-0.0337), 4, 11),\n",
       " (tensor(0.2132), 4, 12),\n",
       " (tensor(-0.0684), 5, 6),\n",
       " (tensor(-0.0801), 5, 7),\n",
       " (tensor(0.0009), 5, 8),\n",
       " (tensor(-0.0111), 5, 9),\n",
       " (tensor(0.2356), 5, 10),\n",
       " (tensor(0.3664), 5, 11),\n",
       " (tensor(0.0409), 5, 12),\n",
       " (tensor(0.4104), 6, 7),\n",
       " (tensor(0.2655), 6, 8),\n",
       " (tensor(0.1659), 6, 9),\n",
       " (tensor(-0.0743), 6, 10),\n",
       " (tensor(-0.1925), 6, 11),\n",
       " (tensor(-0.0960), 6, 12),\n",
       " (tensor(0.0494), 7, 8),\n",
       " (tensor(0.1497), 7, 9),\n",
       " (tensor(-0.0510), 7, 10),\n",
       " (tensor(-0.0593), 7, 11),\n",
       " (tensor(0.0816), 7, 12),\n",
       " (tensor(0.1769), 8, 9),\n",
       " (tensor(0.1179), 8, 10),\n",
       " (tensor(-0.1057), 8, 11),\n",
       " (tensor(0.1010), 8, 12),\n",
       " (tensor(0.1980), 9, 10),\n",
       " (tensor(-0.0741), 9, 11),\n",
       " (tensor(0.1236), 9, 12),\n",
       " (tensor(0.1506), 10, 11),\n",
       " (tensor(0.3019), 10, 12),\n",
       " (tensor(-0.0016), 11, 12)]"
      ]
     },
     "execution_count": 50,
     "metadata": {},
     "output_type": "execute_result"
    }
   ],
   "source": [
    "all_sentence_combinations = []\n",
    "for i in range(len(cos_sim)-1):\n",
    "    for j in range(i+1, len(cos_sim)):\n",
    "        all_sentence_combinations.append((cos_sim[i][j], i, j))\n",
    "all_sentence_combinations        \n",
    "     "
   ]
  },
  {
   "cell_type": "code",
   "execution_count": 51,
   "id": "f1db5497",
   "metadata": {},
   "outputs": [
    {
     "name": "stdout",
     "output_type": "stream",
     "text": [
      "Top-5 most similar pairs:\n",
      "A man is running on a track. A woman is running on a treadmill.  0.4104\n",
      "A student is playing the piano. A musician is playing the guitar.  0.4082\n",
      "The boy is carrying a backpack.Two friends are walking in the park. Two siblings are walking on the beach.  0.3664\n",
      "A woman is drinking water. A woman is running on a treadmill.  0.3138\n",
      "A boy is flying a kite. A girl is flying a paper airplane.  0.3019\n"
     ]
    }
   ],
   "source": [
    "all_sentence_combinations = sorted(all_sentence_combinations, key=lambda x: x[0], reverse=True)\n",
    "\n",
    "print(\"Top-5 most similar pairs:\")\n",
    "for score, i, j in all_sentence_combinations[0:5]:\n",
    "    print(\"{} {}  {:.4f}\".format(sentences[i], sentences[j], cos_sim[i][j]))"
   ]
  },
  {
   "cell_type": "code",
   "execution_count": null,
   "id": "0db23ef2",
   "metadata": {},
   "outputs": [],
   "source": [
    "here it shows the most similar sentences and their similarity scores"
   ]
  }
 ],
 "metadata": {
  "kernelspec": {
   "display_name": "Python 3 (ipykernel)",
   "language": "python",
   "name": "python3"
  },
  "language_info": {
   "codemirror_mode": {
    "name": "ipython",
    "version": 3
   },
   "file_extension": ".py",
   "mimetype": "text/x-python",
   "name": "python",
   "nbconvert_exporter": "python",
   "pygments_lexer": "ipython3",
   "version": "3.9.12"
  }
 },
 "nbformat": 4,
 "nbformat_minor": 5
}
